{
 "cells": [
  {
   "cell_type": "code",
   "execution_count": 23,
   "metadata": {},
   "outputs": [],
   "source": [
    "from sklearn.linear_model import LogisticRegression\n",
    "from sklearn.model_selection import train_test_split\n",
    "import pandas as pd\n",
    "import numpy as np\n",
    "import matplotlib.pyplot as plt\n",
    "import seaborn as sns"
   ]
  },
  {
   "cell_type": "code",
   "execution_count": 2,
   "metadata": {},
   "outputs": [],
   "source": [
    "df = pd.read_csv('/Credit-Risk-Modelling/Datasets/loan_data_clean.csv')"
   ]
  },
  {
   "cell_type": "code",
   "execution_count": 3,
   "metadata": {},
   "outputs": [
    {
     "name": "stdout",
     "output_type": "stream",
     "text": [
      "<class 'pandas.core.frame.DataFrame'>\n",
      "RangeIndex: 32574 entries, 0 to 32573\n",
      "Data columns (total 12 columns):\n",
      " #   Column                      Non-Null Count  Dtype  \n",
      "---  ------                      --------------  -----  \n",
      " 0   person_age                  32574 non-null  int64  \n",
      " 1   person_income               32574 non-null  int64  \n",
      " 2   person_home_ownership       32574 non-null  object \n",
      " 3   person_emp_length           32574 non-null  float64\n",
      " 4   loan_intent                 32574 non-null  object \n",
      " 5   loan_grade                  32574 non-null  object \n",
      " 6   loan_amnt                   32574 non-null  int64  \n",
      " 7   loan_int_rate               32574 non-null  float64\n",
      " 8   loan_status                 32574 non-null  int64  \n",
      " 9   loan_percent_income         32574 non-null  float64\n",
      " 10  cb_person_default_on_file   32574 non-null  object \n",
      " 11  cb_person_cred_hist_length  32574 non-null  int64  \n",
      "dtypes: float64(3), int64(5), object(4)\n",
      "memory usage: 3.0+ MB\n"
     ]
    }
   ],
   "source": [
    "df.info()"
   ]
  },
  {
   "cell_type": "code",
   "execution_count": 5,
   "metadata": {},
   "outputs": [
    {
     "data": {
      "text/html": [
       "<div>\n",
       "<style scoped>\n",
       "    .dataframe tbody tr th:only-of-type {\n",
       "        vertical-align: middle;\n",
       "    }\n",
       "\n",
       "    .dataframe tbody tr th {\n",
       "        vertical-align: top;\n",
       "    }\n",
       "\n",
       "    .dataframe thead th {\n",
       "        text-align: right;\n",
       "    }\n",
       "</style>\n",
       "<table border=\"1\" class=\"dataframe\">\n",
       "  <thead>\n",
       "    <tr style=\"text-align: right;\">\n",
       "      <th></th>\n",
       "      <th>count</th>\n",
       "      <th>mean</th>\n",
       "      <th>std</th>\n",
       "      <th>min</th>\n",
       "      <th>25%</th>\n",
       "      <th>50%</th>\n",
       "      <th>75%</th>\n",
       "      <th>max</th>\n",
       "    </tr>\n",
       "  </thead>\n",
       "  <tbody>\n",
       "    <tr>\n",
       "      <th>person_age</th>\n",
       "      <td>32574.0</td>\n",
       "      <td>27.718426</td>\n",
       "      <td>6.204987</td>\n",
       "      <td>20.00</td>\n",
       "      <td>23.00</td>\n",
       "      <td>26.00</td>\n",
       "      <td>30.00</td>\n",
       "      <td>94.00</td>\n",
       "    </tr>\n",
       "    <tr>\n",
       "      <th>person_income</th>\n",
       "      <td>32574.0</td>\n",
       "      <td>65878.480813</td>\n",
       "      <td>52531.938809</td>\n",
       "      <td>4000.00</td>\n",
       "      <td>38500.00</td>\n",
       "      <td>55000.00</td>\n",
       "      <td>79200.00</td>\n",
       "      <td>2039784.00</td>\n",
       "    </tr>\n",
       "    <tr>\n",
       "      <th>person_emp_length</th>\n",
       "      <td>32574.0</td>\n",
       "      <td>4.760576</td>\n",
       "      <td>3.981181</td>\n",
       "      <td>0.00</td>\n",
       "      <td>2.00</td>\n",
       "      <td>4.00</td>\n",
       "      <td>7.00</td>\n",
       "      <td>41.00</td>\n",
       "    </tr>\n",
       "    <tr>\n",
       "      <th>loan_amnt</th>\n",
       "      <td>32574.0</td>\n",
       "      <td>9588.018051</td>\n",
       "      <td>6320.249598</td>\n",
       "      <td>500.00</td>\n",
       "      <td>5000.00</td>\n",
       "      <td>8000.00</td>\n",
       "      <td>12200.00</td>\n",
       "      <td>35000.00</td>\n",
       "    </tr>\n",
       "    <tr>\n",
       "      <th>loan_int_rate</th>\n",
       "      <td>32574.0</td>\n",
       "      <td>11.009470</td>\n",
       "      <td>3.081664</td>\n",
       "      <td>5.42</td>\n",
       "      <td>8.49</td>\n",
       "      <td>10.99</td>\n",
       "      <td>13.11</td>\n",
       "      <td>23.22</td>\n",
       "    </tr>\n",
       "    <tr>\n",
       "      <th>loan_status</th>\n",
       "      <td>32574.0</td>\n",
       "      <td>0.218180</td>\n",
       "      <td>0.413017</td>\n",
       "      <td>0.00</td>\n",
       "      <td>0.00</td>\n",
       "      <td>0.00</td>\n",
       "      <td>0.00</td>\n",
       "      <td>1.00</td>\n",
       "    </tr>\n",
       "    <tr>\n",
       "      <th>loan_percent_income</th>\n",
       "      <td>32574.0</td>\n",
       "      <td>0.170202</td>\n",
       "      <td>0.106755</td>\n",
       "      <td>0.00</td>\n",
       "      <td>0.09</td>\n",
       "      <td>0.15</td>\n",
       "      <td>0.23</td>\n",
       "      <td>0.83</td>\n",
       "    </tr>\n",
       "    <tr>\n",
       "      <th>cb_person_cred_hist_length</th>\n",
       "      <td>32574.0</td>\n",
       "      <td>5.804108</td>\n",
       "      <td>4.053873</td>\n",
       "      <td>2.00</td>\n",
       "      <td>3.00</td>\n",
       "      <td>4.00</td>\n",
       "      <td>8.00</td>\n",
       "      <td>30.00</td>\n",
       "    </tr>\n",
       "  </tbody>\n",
       "</table>\n",
       "</div>"
      ],
      "text/plain": [
       "                              count          mean           std      min  \\\n",
       "person_age                  32574.0     27.718426      6.204987    20.00   \n",
       "person_income               32574.0  65878.480813  52531.938809  4000.00   \n",
       "person_emp_length           32574.0      4.760576      3.981181     0.00   \n",
       "loan_amnt                   32574.0   9588.018051   6320.249598   500.00   \n",
       "loan_int_rate               32574.0     11.009470      3.081664     5.42   \n",
       "loan_status                 32574.0      0.218180      0.413017     0.00   \n",
       "loan_percent_income         32574.0      0.170202      0.106755     0.00   \n",
       "cb_person_cred_hist_length  32574.0      5.804108      4.053873     2.00   \n",
       "\n",
       "                                 25%       50%       75%         max  \n",
       "person_age                     23.00     26.00     30.00       94.00  \n",
       "person_income               38500.00  55000.00  79200.00  2039784.00  \n",
       "person_emp_length               2.00      4.00      7.00       41.00  \n",
       "loan_amnt                    5000.00   8000.00  12200.00    35000.00  \n",
       "loan_int_rate                   8.49     10.99     13.11       23.22  \n",
       "loan_status                     0.00      0.00      0.00        1.00  \n",
       "loan_percent_income             0.09      0.15      0.23        0.83  \n",
       "cb_person_cred_hist_length      3.00      4.00      8.00       30.00  "
      ]
     },
     "execution_count": 5,
     "metadata": {},
     "output_type": "execute_result"
    }
   ],
   "source": [
    "df.describe().T"
   ]
  },
  {
   "attachments": {},
   "cell_type": "markdown",
   "metadata": {},
   "source": [
    "### Simple Logistic Regression using only one feature"
   ]
  },
  {
   "cell_type": "code",
   "execution_count": 9,
   "metadata": {},
   "outputs": [],
   "source": [
    "X = df[['loan_int_rate']]\n",
    "y = df[['loan_status']]"
   ]
  },
  {
   "cell_type": "code",
   "execution_count": 14,
   "metadata": {},
   "outputs": [],
   "source": [
    "one_param = LogisticRegression(random_state=2).fit(X, np.ravel(y))"
   ]
  },
  {
   "cell_type": "code",
   "execution_count": 16,
   "metadata": {},
   "outputs": [
    {
     "data": {
      "text/plain": [
       "{'C': 1.0,\n",
       " 'class_weight': None,\n",
       " 'dual': False,\n",
       " 'fit_intercept': True,\n",
       " 'intercept_scaling': 1,\n",
       " 'l1_ratio': None,\n",
       " 'max_iter': 100,\n",
       " 'multi_class': 'auto',\n",
       " 'n_jobs': None,\n",
       " 'penalty': 'l2',\n",
       " 'random_state': 2,\n",
       " 'solver': 'lbfgs',\n",
       " 'tol': 0.0001,\n",
       " 'verbose': 0,\n",
       " 'warm_start': False}"
      ]
     },
     "execution_count": 16,
     "metadata": {},
     "output_type": "execute_result"
    }
   ],
   "source": [
    "one_param.get_params()"
   ]
  },
  {
   "cell_type": "code",
   "execution_count": 17,
   "metadata": {},
   "outputs": [
    {
     "data": {
      "text/plain": [
       "array([-4.42067035])"
      ]
     },
     "execution_count": 17,
     "metadata": {},
     "output_type": "execute_result"
    }
   ],
   "source": [
    "one_param.intercept_"
   ]
  },
  {
   "attachments": {},
   "cell_type": "markdown",
   "metadata": {},
   "source": [
    "##### Add more parameters"
   ]
  },
  {
   "cell_type": "code",
   "execution_count": 18,
   "metadata": {},
   "outputs": [],
   "source": [
    "X = df[['loan_int_rate', 'person_emp_length']]\n",
    "y = df[['loan_status']]"
   ]
  },
  {
   "cell_type": "code",
   "execution_count": 19,
   "metadata": {},
   "outputs": [],
   "source": [
    "two_param = LogisticRegression(random_state=2).fit(X, np.ravel(y))"
   ]
  },
  {
   "cell_type": "code",
   "execution_count": 20,
   "metadata": {},
   "outputs": [
    {
     "data": {
      "text/plain": [
       "array([-4.17793465])"
      ]
     },
     "execution_count": 20,
     "metadata": {},
     "output_type": "execute_result"
    }
   ],
   "source": [
    "two_param.intercept_"
   ]
  },
  {
   "attachments": {},
   "cell_type": "markdown",
   "metadata": {},
   "source": [
    "this model has an .intercept_ value closer to zero. \n",
    "<br>This means the log odds of a non-default is approaching zero."
   ]
  },
  {
   "attachments": {},
   "cell_type": "markdown",
   "metadata": {},
   "source": [
    "## Use train, test and add more parameters"
   ]
  },
  {
   "cell_type": "code",
   "execution_count": 22,
   "metadata": {},
   "outputs": [],
   "source": [
    "X = df[['loan_int_rate', 'person_emp_length', 'person_income']]\n",
    "y = df[['loan_status']]"
   ]
  },
  {
   "cell_type": "code",
   "execution_count": 24,
   "metadata": {},
   "outputs": [],
   "source": [
    "X_train, X_test, y_train, y_test = train_test_split(X, y, test_size=0.4, random_state=2)"
   ]
  },
  {
   "cell_type": "code",
   "execution_count": 26,
   "metadata": {},
   "outputs": [],
   "source": [
    "multi_param = LogisticRegression(random_state=2).fit(X_train, np.ravel(y_train))"
   ]
  },
  {
   "cell_type": "code",
   "execution_count": 27,
   "metadata": {},
   "outputs": [
    {
     "data": {
      "text/plain": [
       "array([[ 8.20256019e-02, -6.46164736e-02, -3.21720652e-05]])"
      ]
     },
     "execution_count": 27,
     "metadata": {},
     "output_type": "execute_result"
    }
   ],
   "source": [
    "multi_param.coef_"
   ]
  },
  {
   "cell_type": "code",
   "execution_count": 28,
   "metadata": {},
   "outputs": [
    {
     "data": {
      "text/plain": [
       "array([-0.01330487])"
      ]
     },
     "execution_count": 28,
     "metadata": {},
     "output_type": "execute_result"
    }
   ],
   "source": [
    "multi_param.intercept_"
   ]
  },
  {
   "attachments": {},
   "cell_type": "markdown",
   "metadata": {},
   "source": [
    "there are three values in .coef_? This tells you how important each column, or feature, was for predicting. The more positive the value, the more it predicts defaults."
   ]
  },
  {
   "attachments": {},
   "cell_type": "markdown",
   "metadata": {},
   "source": [
    "#### One hot encoding for object variables"
   ]
  },
  {
   "cell_type": "code",
   "execution_count": 29,
   "metadata": {},
   "outputs": [
    {
     "name": "stdout",
     "output_type": "stream",
     "text": [
      "<class 'pandas.core.frame.DataFrame'>\n",
      "RangeIndex: 32574 entries, 0 to 32573\n",
      "Data columns (total 12 columns):\n",
      " #   Column                      Non-Null Count  Dtype  \n",
      "---  ------                      --------------  -----  \n",
      " 0   person_age                  32574 non-null  int64  \n",
      " 1   person_income               32574 non-null  int64  \n",
      " 2   person_home_ownership       32574 non-null  object \n",
      " 3   person_emp_length           32574 non-null  float64\n",
      " 4   loan_intent                 32574 non-null  object \n",
      " 5   loan_grade                  32574 non-null  object \n",
      " 6   loan_amnt                   32574 non-null  int64  \n",
      " 7   loan_int_rate               32574 non-null  float64\n",
      " 8   loan_status                 32574 non-null  int64  \n",
      " 9   loan_percent_income         32574 non-null  float64\n",
      " 10  cb_person_default_on_file   32574 non-null  object \n",
      " 11  cb_person_cred_hist_length  32574 non-null  int64  \n",
      "dtypes: float64(3), int64(5), object(4)\n",
      "memory usage: 3.0+ MB\n"
     ]
    }
   ],
   "source": [
    "df.info()"
   ]
  },
  {
   "cell_type": "code",
   "execution_count": 33,
   "metadata": {},
   "outputs": [],
   "source": [
    "one_hot = pd.get_dummies(df)"
   ]
  },
  {
   "cell_type": "code",
   "execution_count": 34,
   "metadata": {},
   "outputs": [
    {
     "name": "stdout",
     "output_type": "stream",
     "text": [
      "<class 'pandas.core.frame.DataFrame'>\n",
      "RangeIndex: 32574 entries, 0 to 32573\n",
      "Data columns (total 27 columns):\n",
      " #   Column                          Non-Null Count  Dtype  \n",
      "---  ------                          --------------  -----  \n",
      " 0   person_age                      32574 non-null  int64  \n",
      " 1   person_income                   32574 non-null  int64  \n",
      " 2   person_emp_length               32574 non-null  float64\n",
      " 3   loan_amnt                       32574 non-null  int64  \n",
      " 4   loan_int_rate                   32574 non-null  float64\n",
      " 5   loan_status                     32574 non-null  int64  \n",
      " 6   loan_percent_income             32574 non-null  float64\n",
      " 7   cb_person_cred_hist_length      32574 non-null  int64  \n",
      " 8   person_home_ownership_MORTGAGE  32574 non-null  uint8  \n",
      " 9   person_home_ownership_OTHER     32574 non-null  uint8  \n",
      " 10  person_home_ownership_OWN       32574 non-null  uint8  \n",
      " 11  person_home_ownership_RENT      32574 non-null  uint8  \n",
      " 12  loan_intent_DEBTCONSOLIDATION   32574 non-null  uint8  \n",
      " 13  loan_intent_EDUCATION           32574 non-null  uint8  \n",
      " 14  loan_intent_HOMEIMPROVEMENT     32574 non-null  uint8  \n",
      " 15  loan_intent_MEDICAL             32574 non-null  uint8  \n",
      " 16  loan_intent_PERSONAL            32574 non-null  uint8  \n",
      " 17  loan_intent_VENTURE             32574 non-null  uint8  \n",
      " 18  loan_grade_A                    32574 non-null  uint8  \n",
      " 19  loan_grade_B                    32574 non-null  uint8  \n",
      " 20  loan_grade_C                    32574 non-null  uint8  \n",
      " 21  loan_grade_D                    32574 non-null  uint8  \n",
      " 22  loan_grade_E                    32574 non-null  uint8  \n",
      " 23  loan_grade_F                    32574 non-null  uint8  \n",
      " 24  loan_grade_G                    32574 non-null  uint8  \n",
      " 25  cb_person_default_on_file_N     32574 non-null  uint8  \n",
      " 26  cb_person_default_on_file_Y     32574 non-null  uint8  \n",
      "dtypes: float64(3), int64(5), uint8(19)\n",
      "memory usage: 2.6 MB\n"
     ]
    }
   ],
   "source": [
    "one_hot.info()"
   ]
  },
  {
   "cell_type": "code",
   "execution_count": 36,
   "metadata": {},
   "outputs": [
    {
     "data": {
      "text/plain": [
       "0    28969\n",
       "1     3605\n",
       "Name: loan_intent_HOMEIMPROVEMENT, dtype: int64"
      ]
     },
     "execution_count": 36,
     "metadata": {},
     "output_type": "execute_result"
    }
   ],
   "source": [
    "one_hot['loan_intent_HOMEIMPROVEMENT'].value_counts()"
   ]
  },
  {
   "cell_type": "code",
   "execution_count": 35,
   "metadata": {},
   "outputs": [
    {
     "data": {
      "text/plain": [
       "EDUCATION            6451\n",
       "MEDICAL              6071\n",
       "VENTURE              5716\n",
       "PERSONAL             5519\n",
       "DEBTCONSOLIDATION    5212\n",
       "HOMEIMPROVEMENT      3605\n",
       "Name: loan_intent, dtype: int64"
      ]
     },
     "execution_count": 35,
     "metadata": {},
     "output_type": "execute_result"
    }
   ],
   "source": [
    "df['loan_intent'].value_counts()"
   ]
  },
  {
   "cell_type": "code",
   "execution_count": 38,
   "metadata": {},
   "outputs": [],
   "source": [
    "X = one_hot.drop('loan_status', axis=1)\n",
    "y = one_hot[['loan_status']]"
   ]
  },
  {
   "cell_type": "code",
   "execution_count": 41,
   "metadata": {},
   "outputs": [],
   "source": [
    "X_test, X_train, y_test, y_train = train_test_split(X, y, test_size=0.4, random_state=2)"
   ]
  },
  {
   "cell_type": "code",
   "execution_count": 42,
   "metadata": {},
   "outputs": [],
   "source": [
    "prob = LogisticRegression(random_state=2).fit(X_train, np.ravel(y_train))"
   ]
  },
  {
   "cell_type": "code",
   "execution_count": 43,
   "metadata": {},
   "outputs": [
    {
     "data": {
      "text/plain": [
       "array([[0.60340781, 0.39659219],\n",
       "       [0.92954828, 0.07045172],\n",
       "       [0.60185769, 0.39814231],\n",
       "       ...,\n",
       "       [0.80319276, 0.19680724],\n",
       "       [0.73876939, 0.26123061],\n",
       "       [0.79818205, 0.20181795]])"
      ]
     },
     "execution_count": 43,
     "metadata": {},
     "output_type": "execute_result"
    }
   ],
   "source": [
    "prob.predict_proba(X_test)  # prob show as two arrays: non-default, default"
   ]
  },
  {
   "cell_type": "code",
   "execution_count": 44,
   "metadata": {},
   "outputs": [
    {
     "data": {
      "text/plain": [
       "0.8022922636103151"
      ]
     },
     "execution_count": 44,
     "metadata": {},
     "output_type": "execute_result"
    }
   ],
   "source": [
    "prob.score(X_test, y_test)"
   ]
  },
  {
   "cell_type": "code",
   "execution_count": null,
   "metadata": {},
   "outputs": [],
   "source": []
  },
  {
   "cell_type": "code",
   "execution_count": null,
   "metadata": {},
   "outputs": [],
   "source": []
  },
  {
   "cell_type": "code",
   "execution_count": null,
   "metadata": {},
   "outputs": [],
   "source": []
  },
  {
   "cell_type": "code",
   "execution_count": null,
   "metadata": {},
   "outputs": [],
   "source": []
  }
 ],
 "metadata": {
  "kernelspec": {
   "display_name": "base",
   "language": "python",
   "name": "python3"
  },
  "language_info": {
   "codemirror_mode": {
    "name": "ipython",
    "version": 3
   },
   "file_extension": ".py",
   "mimetype": "text/x-python",
   "name": "python",
   "nbconvert_exporter": "python",
   "pygments_lexer": "ipython3",
   "version": "3.9.7"
  },
  "orig_nbformat": 4
 },
 "nbformat": 4,
 "nbformat_minor": 2
}
