{
 "cells": [
  {
   "cell_type": "code",
   "execution_count": 79,
   "metadata": {},
   "outputs": [],
   "source": [
    "import pandas as pd\n",
    "import matplotlib.pyplot as plt\n",
    "import seaborn as sns\n",
    "import numpy as np\n",
    "\n",
    "import xgboost as xgb\n",
    "from sklearn.model_selection import train_test_split\n",
    "from sklearn.metrics import classification_report\n",
    "from sklearn.metrics import confusion_matrix, ConfusionMatrixDisplay\n",
    "from sklearn.model_selection import cross_val_score\n"
   ]
  },
  {
   "attachments": {},
   "cell_type": "markdown",
   "metadata": {},
   "source": [
    "Decision trees are another standard credit risk model. We will go beyond decision trees by using the trendy XGBoost package in Python to create gradient boosted trees. "
   ]
  },
  {
   "attachments": {},
   "cell_type": "markdown",
   "metadata": {},
   "source": []
  },
  {
   "cell_type": "code",
   "execution_count": 2,
   "metadata": {},
   "outputs": [
    {
     "data": {
      "text/html": [
       "<div>\n",
       "<style scoped>\n",
       "    .dataframe tbody tr th:only-of-type {\n",
       "        vertical-align: middle;\n",
       "    }\n",
       "\n",
       "    .dataframe tbody tr th {\n",
       "        vertical-align: top;\n",
       "    }\n",
       "\n",
       "    .dataframe thead th {\n",
       "        text-align: right;\n",
       "    }\n",
       "</style>\n",
       "<table border=\"1\" class=\"dataframe\">\n",
       "  <thead>\n",
       "    <tr style=\"text-align: right;\">\n",
       "      <th></th>\n",
       "      <th>person_age</th>\n",
       "      <th>person_income</th>\n",
       "      <th>person_emp_length</th>\n",
       "      <th>loan_amnt</th>\n",
       "      <th>loan_int_rate</th>\n",
       "      <th>loan_status</th>\n",
       "      <th>loan_percent_income</th>\n",
       "      <th>cb_person_cred_hist_length</th>\n",
       "      <th>person_home_ownership_MORTGAGE</th>\n",
       "      <th>person_home_ownership_OTHER</th>\n",
       "      <th>...</th>\n",
       "      <th>loan_intent_VENTURE</th>\n",
       "      <th>loan_grade_A</th>\n",
       "      <th>loan_grade_B</th>\n",
       "      <th>loan_grade_C</th>\n",
       "      <th>loan_grade_D</th>\n",
       "      <th>loan_grade_E</th>\n",
       "      <th>loan_grade_F</th>\n",
       "      <th>loan_grade_G</th>\n",
       "      <th>cb_person_default_on_file_N</th>\n",
       "      <th>cb_person_default_on_file_Y</th>\n",
       "    </tr>\n",
       "  </thead>\n",
       "  <tbody>\n",
       "    <tr>\n",
       "      <th>10008</th>\n",
       "      <td>21</td>\n",
       "      <td>65000</td>\n",
       "      <td>5.0</td>\n",
       "      <td>5000</td>\n",
       "      <td>5.79</td>\n",
       "      <td>0</td>\n",
       "      <td>0.08</td>\n",
       "      <td>4</td>\n",
       "      <td>0</td>\n",
       "      <td>0</td>\n",
       "      <td>...</td>\n",
       "      <td>0</td>\n",
       "      <td>1</td>\n",
       "      <td>0</td>\n",
       "      <td>0</td>\n",
       "      <td>0</td>\n",
       "      <td>0</td>\n",
       "      <td>0</td>\n",
       "      <td>0</td>\n",
       "      <td>1</td>\n",
       "      <td>0</td>\n",
       "    </tr>\n",
       "    <tr>\n",
       "      <th>26334</th>\n",
       "      <td>30</td>\n",
       "      <td>100000</td>\n",
       "      <td>0.0</td>\n",
       "      <td>3600</td>\n",
       "      <td>10.99</td>\n",
       "      <td>0</td>\n",
       "      <td>0.04</td>\n",
       "      <td>10</td>\n",
       "      <td>1</td>\n",
       "      <td>0</td>\n",
       "      <td>...</td>\n",
       "      <td>0</td>\n",
       "      <td>1</td>\n",
       "      <td>0</td>\n",
       "      <td>0</td>\n",
       "      <td>0</td>\n",
       "      <td>0</td>\n",
       "      <td>0</td>\n",
       "      <td>0</td>\n",
       "      <td>1</td>\n",
       "      <td>0</td>\n",
       "    </tr>\n",
       "    <tr>\n",
       "      <th>29346</th>\n",
       "      <td>38</td>\n",
       "      <td>23868</td>\n",
       "      <td>0.0</td>\n",
       "      <td>7750</td>\n",
       "      <td>12.53</td>\n",
       "      <td>1</td>\n",
       "      <td>0.32</td>\n",
       "      <td>14</td>\n",
       "      <td>1</td>\n",
       "      <td>0</td>\n",
       "      <td>...</td>\n",
       "      <td>0</td>\n",
       "      <td>0</td>\n",
       "      <td>1</td>\n",
       "      <td>0</td>\n",
       "      <td>0</td>\n",
       "      <td>0</td>\n",
       "      <td>0</td>\n",
       "      <td>0</td>\n",
       "      <td>1</td>\n",
       "      <td>0</td>\n",
       "    </tr>\n",
       "    <tr>\n",
       "      <th>29100</th>\n",
       "      <td>33</td>\n",
       "      <td>45000</td>\n",
       "      <td>3.0</td>\n",
       "      <td>8000</td>\n",
       "      <td>16.49</td>\n",
       "      <td>1</td>\n",
       "      <td>0.18</td>\n",
       "      <td>7</td>\n",
       "      <td>1</td>\n",
       "      <td>0</td>\n",
       "      <td>...</td>\n",
       "      <td>0</td>\n",
       "      <td>0</td>\n",
       "      <td>0</td>\n",
       "      <td>0</td>\n",
       "      <td>1</td>\n",
       "      <td>0</td>\n",
       "      <td>0</td>\n",
       "      <td>0</td>\n",
       "      <td>1</td>\n",
       "      <td>0</td>\n",
       "    </tr>\n",
       "    <tr>\n",
       "      <th>3427</th>\n",
       "      <td>25</td>\n",
       "      <td>36400</td>\n",
       "      <td>4.0</td>\n",
       "      <td>11000</td>\n",
       "      <td>12.29</td>\n",
       "      <td>0</td>\n",
       "      <td>0.30</td>\n",
       "      <td>3</td>\n",
       "      <td>1</td>\n",
       "      <td>0</td>\n",
       "      <td>...</td>\n",
       "      <td>1</td>\n",
       "      <td>0</td>\n",
       "      <td>0</td>\n",
       "      <td>1</td>\n",
       "      <td>0</td>\n",
       "      <td>0</td>\n",
       "      <td>0</td>\n",
       "      <td>0</td>\n",
       "      <td>1</td>\n",
       "      <td>0</td>\n",
       "    </tr>\n",
       "    <tr>\n",
       "      <th>11750</th>\n",
       "      <td>25</td>\n",
       "      <td>80004</td>\n",
       "      <td>5.0</td>\n",
       "      <td>10000</td>\n",
       "      <td>9.62</td>\n",
       "      <td>0</td>\n",
       "      <td>0.12</td>\n",
       "      <td>4</td>\n",
       "      <td>0</td>\n",
       "      <td>0</td>\n",
       "      <td>...</td>\n",
       "      <td>0</td>\n",
       "      <td>0</td>\n",
       "      <td>1</td>\n",
       "      <td>0</td>\n",
       "      <td>0</td>\n",
       "      <td>0</td>\n",
       "      <td>0</td>\n",
       "      <td>0</td>\n",
       "      <td>1</td>\n",
       "      <td>0</td>\n",
       "    </tr>\n",
       "    <tr>\n",
       "      <th>16623</th>\n",
       "      <td>21</td>\n",
       "      <td>24000</td>\n",
       "      <td>5.0</td>\n",
       "      <td>2000</td>\n",
       "      <td>11.14</td>\n",
       "      <td>0</td>\n",
       "      <td>0.08</td>\n",
       "      <td>4</td>\n",
       "      <td>0</td>\n",
       "      <td>0</td>\n",
       "      <td>...</td>\n",
       "      <td>1</td>\n",
       "      <td>0</td>\n",
       "      <td>1</td>\n",
       "      <td>0</td>\n",
       "      <td>0</td>\n",
       "      <td>0</td>\n",
       "      <td>0</td>\n",
       "      <td>0</td>\n",
       "      <td>1</td>\n",
       "      <td>0</td>\n",
       "    </tr>\n",
       "    <tr>\n",
       "      <th>26811</th>\n",
       "      <td>29</td>\n",
       "      <td>42500</td>\n",
       "      <td>9.0</td>\n",
       "      <td>15000</td>\n",
       "      <td>7.88</td>\n",
       "      <td>1</td>\n",
       "      <td>0.35</td>\n",
       "      <td>7</td>\n",
       "      <td>0</td>\n",
       "      <td>0</td>\n",
       "      <td>...</td>\n",
       "      <td>1</td>\n",
       "      <td>1</td>\n",
       "      <td>0</td>\n",
       "      <td>0</td>\n",
       "      <td>0</td>\n",
       "      <td>0</td>\n",
       "      <td>0</td>\n",
       "      <td>0</td>\n",
       "      <td>1</td>\n",
       "      <td>0</td>\n",
       "    </tr>\n",
       "    <tr>\n",
       "      <th>15391</th>\n",
       "      <td>24</td>\n",
       "      <td>65000</td>\n",
       "      <td>8.0</td>\n",
       "      <td>15000</td>\n",
       "      <td>9.88</td>\n",
       "      <td>0</td>\n",
       "      <td>0.23</td>\n",
       "      <td>2</td>\n",
       "      <td>0</td>\n",
       "      <td>0</td>\n",
       "      <td>...</td>\n",
       "      <td>0</td>\n",
       "      <td>0</td>\n",
       "      <td>1</td>\n",
       "      <td>0</td>\n",
       "      <td>0</td>\n",
       "      <td>0</td>\n",
       "      <td>0</td>\n",
       "      <td>0</td>\n",
       "      <td>1</td>\n",
       "      <td>0</td>\n",
       "    </tr>\n",
       "    <tr>\n",
       "      <th>15501</th>\n",
       "      <td>23</td>\n",
       "      <td>140000</td>\n",
       "      <td>3.0</td>\n",
       "      <td>15000</td>\n",
       "      <td>15.58</td>\n",
       "      <td>0</td>\n",
       "      <td>0.11</td>\n",
       "      <td>3</td>\n",
       "      <td>1</td>\n",
       "      <td>0</td>\n",
       "      <td>...</td>\n",
       "      <td>0</td>\n",
       "      <td>0</td>\n",
       "      <td>0</td>\n",
       "      <td>0</td>\n",
       "      <td>1</td>\n",
       "      <td>0</td>\n",
       "      <td>0</td>\n",
       "      <td>0</td>\n",
       "      <td>0</td>\n",
       "      <td>1</td>\n",
       "    </tr>\n",
       "  </tbody>\n",
       "</table>\n",
       "<p>10 rows × 27 columns</p>\n",
       "</div>"
      ],
      "text/plain": [
       "       person_age  person_income  person_emp_length  loan_amnt  loan_int_rate  \\\n",
       "10008          21          65000                5.0       5000           5.79   \n",
       "26334          30         100000                0.0       3600          10.99   \n",
       "29346          38          23868                0.0       7750          12.53   \n",
       "29100          33          45000                3.0       8000          16.49   \n",
       "3427           25          36400                4.0      11000          12.29   \n",
       "11750          25          80004                5.0      10000           9.62   \n",
       "16623          21          24000                5.0       2000          11.14   \n",
       "26811          29          42500                9.0      15000           7.88   \n",
       "15391          24          65000                8.0      15000           9.88   \n",
       "15501          23         140000                3.0      15000          15.58   \n",
       "\n",
       "       loan_status  loan_percent_income  cb_person_cred_hist_length  \\\n",
       "10008            0                 0.08                           4   \n",
       "26334            0                 0.04                          10   \n",
       "29346            1                 0.32                          14   \n",
       "29100            1                 0.18                           7   \n",
       "3427             0                 0.30                           3   \n",
       "11750            0                 0.12                           4   \n",
       "16623            0                 0.08                           4   \n",
       "26811            1                 0.35                           7   \n",
       "15391            0                 0.23                           2   \n",
       "15501            0                 0.11                           3   \n",
       "\n",
       "       person_home_ownership_MORTGAGE  person_home_ownership_OTHER  ...  \\\n",
       "10008                               0                            0  ...   \n",
       "26334                               1                            0  ...   \n",
       "29346                               1                            0  ...   \n",
       "29100                               1                            0  ...   \n",
       "3427                                1                            0  ...   \n",
       "11750                               0                            0  ...   \n",
       "16623                               0                            0  ...   \n",
       "26811                               0                            0  ...   \n",
       "15391                               0                            0  ...   \n",
       "15501                               1                            0  ...   \n",
       "\n",
       "       loan_intent_VENTURE  loan_grade_A  loan_grade_B  loan_grade_C  \\\n",
       "10008                    0             1             0             0   \n",
       "26334                    0             1             0             0   \n",
       "29346                    0             0             1             0   \n",
       "29100                    0             0             0             0   \n",
       "3427                     1             0             0             1   \n",
       "11750                    0             0             1             0   \n",
       "16623                    1             0             1             0   \n",
       "26811                    1             1             0             0   \n",
       "15391                    0             0             1             0   \n",
       "15501                    0             0             0             0   \n",
       "\n",
       "       loan_grade_D  loan_grade_E  loan_grade_F  loan_grade_G  \\\n",
       "10008             0             0             0             0   \n",
       "26334             0             0             0             0   \n",
       "29346             0             0             0             0   \n",
       "29100             1             0             0             0   \n",
       "3427              0             0             0             0   \n",
       "11750             0             0             0             0   \n",
       "16623             0             0             0             0   \n",
       "26811             0             0             0             0   \n",
       "15391             0             0             0             0   \n",
       "15501             1             0             0             0   \n",
       "\n",
       "       cb_person_default_on_file_N  cb_person_default_on_file_Y  \n",
       "10008                            1                            0  \n",
       "26334                            1                            0  \n",
       "29346                            1                            0  \n",
       "29100                            1                            0  \n",
       "3427                             1                            0  \n",
       "11750                            1                            0  \n",
       "16623                            1                            0  \n",
       "26811                            1                            0  \n",
       "15391                            1                            0  \n",
       "15501                            0                            1  \n",
       "\n",
       "[10 rows x 27 columns]"
      ]
     },
     "execution_count": 2,
     "metadata": {},
     "output_type": "execute_result"
    }
   ],
   "source": [
    "df = pd.read_csv('/Credit-Risk-Modelling/Datasets/loan_data_encoded.csv')\n",
    "df.sample(10)"
   ]
  },
  {
   "cell_type": "code",
   "execution_count": 3,
   "metadata": {},
   "outputs": [
    {
     "name": "stdout",
     "output_type": "stream",
     "text": [
      "<class 'pandas.core.frame.DataFrame'>\n",
      "RangeIndex: 32574 entries, 0 to 32573\n",
      "Data columns (total 27 columns):\n",
      " #   Column                          Non-Null Count  Dtype  \n",
      "---  ------                          --------------  -----  \n",
      " 0   person_age                      32574 non-null  int64  \n",
      " 1   person_income                   32574 non-null  int64  \n",
      " 2   person_emp_length               32574 non-null  float64\n",
      " 3   loan_amnt                       32574 non-null  int64  \n",
      " 4   loan_int_rate                   32574 non-null  float64\n",
      " 5   loan_status                     32574 non-null  int64  \n",
      " 6   loan_percent_income             32574 non-null  float64\n",
      " 7   cb_person_cred_hist_length      32574 non-null  int64  \n",
      " 8   person_home_ownership_MORTGAGE  32574 non-null  int64  \n",
      " 9   person_home_ownership_OTHER     32574 non-null  int64  \n",
      " 10  person_home_ownership_OWN       32574 non-null  int64  \n",
      " 11  person_home_ownership_RENT      32574 non-null  int64  \n",
      " 12  loan_intent_DEBTCONSOLIDATION   32574 non-null  int64  \n",
      " 13  loan_intent_EDUCATION           32574 non-null  int64  \n",
      " 14  loan_intent_HOMEIMPROVEMENT     32574 non-null  int64  \n",
      " 15  loan_intent_MEDICAL             32574 non-null  int64  \n",
      " 16  loan_intent_PERSONAL            32574 non-null  int64  \n",
      " 17  loan_intent_VENTURE             32574 non-null  int64  \n",
      " 18  loan_grade_A                    32574 non-null  int64  \n",
      " 19  loan_grade_B                    32574 non-null  int64  \n",
      " 20  loan_grade_C                    32574 non-null  int64  \n",
      " 21  loan_grade_D                    32574 non-null  int64  \n",
      " 22  loan_grade_E                    32574 non-null  int64  \n",
      " 23  loan_grade_F                    32574 non-null  int64  \n",
      " 24  loan_grade_G                    32574 non-null  int64  \n",
      " 25  cb_person_default_on_file_N     32574 non-null  int64  \n",
      " 26  cb_person_default_on_file_Y     32574 non-null  int64  \n",
      "dtypes: float64(3), int64(24)\n",
      "memory usage: 6.7 MB\n"
     ]
    }
   ],
   "source": [
    "df.info()"
   ]
  },
  {
   "attachments": {},
   "cell_type": "markdown",
   "metadata": {},
   "source": [
    "Prepared data for model training\n"
   ]
  },
  {
   "cell_type": "code",
   "execution_count": 61,
   "metadata": {},
   "outputs": [],
   "source": [
    "X = df.drop('loan_status', axis=1)\n",
    "y = df[['loan_status']]"
   ]
  },
  {
   "cell_type": "code",
   "execution_count": 62,
   "metadata": {},
   "outputs": [],
   "source": [
    "X_train, X_test, y_train, y_test = train_test_split(X, y, \n",
    "                                                    test_size=0.4, \n",
    "                                                    random_state=2)"
   ]
  },
  {
   "cell_type": "code",
   "execution_count": 6,
   "metadata": {},
   "outputs": [],
   "source": [
    "# Train a model\n",
    "clf_gbt = xgb.XGBClassifier().fit(X_train, np.ravel(y_train))\n",
    "\n",
    "# Predict probabilities of the model\n",
    "gbt_preds = clf_gbt.predict_proba(X_test)"
   ]
  },
  {
   "cell_type": "code",
   "execution_count": 7,
   "metadata": {},
   "outputs": [
    {
     "data": {
      "text/html": [
       "<div>\n",
       "<style scoped>\n",
       "    .dataframe tbody tr th:only-of-type {\n",
       "        vertical-align: middle;\n",
       "    }\n",
       "\n",
       "    .dataframe tbody tr th {\n",
       "        vertical-align: top;\n",
       "    }\n",
       "\n",
       "    .dataframe thead th {\n",
       "        text-align: right;\n",
       "    }\n",
       "</style>\n",
       "<table border=\"1\" class=\"dataframe\">\n",
       "  <thead>\n",
       "    <tr style=\"text-align: right;\">\n",
       "      <th></th>\n",
       "      <th>loan_status</th>\n",
       "      <th>prob_default</th>\n",
       "    </tr>\n",
       "  </thead>\n",
       "  <tbody>\n",
       "    <tr>\n",
       "      <th>0</th>\n",
       "      <td>0</td>\n",
       "      <td>3.28</td>\n",
       "    </tr>\n",
       "    <tr>\n",
       "      <th>1</th>\n",
       "      <td>0</td>\n",
       "      <td>0.65</td>\n",
       "    </tr>\n",
       "    <tr>\n",
       "      <th>2</th>\n",
       "      <td>0</td>\n",
       "      <td>6.30</td>\n",
       "    </tr>\n",
       "    <tr>\n",
       "      <th>3</th>\n",
       "      <td>0</td>\n",
       "      <td>10.75</td>\n",
       "    </tr>\n",
       "    <tr>\n",
       "      <th>4</th>\n",
       "      <td>0</td>\n",
       "      <td>3.08</td>\n",
       "    </tr>\n",
       "  </tbody>\n",
       "</table>\n",
       "</div>"
      ],
      "text/plain": [
       "   loan_status  prob_default\n",
       "0            0          3.28\n",
       "1            0          0.65\n",
       "2            0          6.30\n",
       "3            0         10.75\n",
       "4            0          3.08"
      ]
     },
     "execution_count": 7,
     "metadata": {},
     "output_type": "execute_result"
    }
   ],
   "source": [
    "# Create dataframes of first five predictions, and first five true labels\n",
    "preds_df = pd.DataFrame(np.round(gbt_preds[:,1][0:5] * 100, 2), columns = ['prob_default'])\n",
    "true_df = y_test.head()\n",
    "\n",
    "# Concatenate and print the two data frames for comparison\n",
    "pd.concat([true_df.reset_index(drop = True), preds_df], axis = 1)"
   ]
  },
  {
   "cell_type": "code",
   "execution_count": 8,
   "metadata": {},
   "outputs": [
    {
     "data": {
      "text/html": [
       "<div>\n",
       "<style scoped>\n",
       "    .dataframe tbody tr th:only-of-type {\n",
       "        vertical-align: middle;\n",
       "    }\n",
       "\n",
       "    .dataframe tbody tr th {\n",
       "        vertical-align: top;\n",
       "    }\n",
       "\n",
       "    .dataframe thead th {\n",
       "        text-align: right;\n",
       "    }\n",
       "</style>\n",
       "<table border=\"1\" class=\"dataframe\">\n",
       "  <thead>\n",
       "    <tr style=\"text-align: right;\">\n",
       "      <th></th>\n",
       "      <th>xgb_prob_default</th>\n",
       "    </tr>\n",
       "  </thead>\n",
       "  <tbody>\n",
       "    <tr>\n",
       "      <th>0</th>\n",
       "      <td>0.032782</td>\n",
       "    </tr>\n",
       "    <tr>\n",
       "      <th>1</th>\n",
       "      <td>0.006460</td>\n",
       "    </tr>\n",
       "    <tr>\n",
       "      <th>2</th>\n",
       "      <td>0.063045</td>\n",
       "    </tr>\n",
       "    <tr>\n",
       "      <th>3</th>\n",
       "      <td>0.107470</td>\n",
       "    </tr>\n",
       "    <tr>\n",
       "      <th>4</th>\n",
       "      <td>0.030844</td>\n",
       "    </tr>\n",
       "    <tr>\n",
       "      <th>...</th>\n",
       "      <td>...</td>\n",
       "    </tr>\n",
       "    <tr>\n",
       "      <th>13025</th>\n",
       "      <td>0.018710</td>\n",
       "    </tr>\n",
       "    <tr>\n",
       "      <th>13026</th>\n",
       "      <td>0.010569</td>\n",
       "    </tr>\n",
       "    <tr>\n",
       "      <th>13027</th>\n",
       "      <td>0.083046</td>\n",
       "    </tr>\n",
       "    <tr>\n",
       "      <th>13028</th>\n",
       "      <td>0.008422</td>\n",
       "    </tr>\n",
       "    <tr>\n",
       "      <th>13029</th>\n",
       "      <td>0.002292</td>\n",
       "    </tr>\n",
       "  </tbody>\n",
       "</table>\n",
       "<p>13030 rows × 1 columns</p>\n",
       "</div>"
      ],
      "text/plain": [
       "       xgb_prob_default\n",
       "0              0.032782\n",
       "1              0.006460\n",
       "2              0.063045\n",
       "3              0.107470\n",
       "4              0.030844\n",
       "...                 ...\n",
       "13025          0.018710\n",
       "13026          0.010569\n",
       "13027          0.083046\n",
       "13028          0.008422\n",
       "13029          0.002292\n",
       "\n",
       "[13030 rows x 1 columns]"
      ]
     },
     "execution_count": 8,
     "metadata": {},
     "output_type": "execute_result"
    }
   ],
   "source": [
    "# make a dataframe for both of models prob of defaults.\n",
    "dataset = pd.DataFrame({'xgb_prob_default': gbt_preds[:, 1]})\n",
    "dataset"
   ]
  },
  {
   "cell_type": "code",
   "execution_count": 9,
   "metadata": {},
   "outputs": [
    {
     "data": {
      "text/html": [
       "<div>\n",
       "<style scoped>\n",
       "    .dataframe tbody tr th:only-of-type {\n",
       "        vertical-align: middle;\n",
       "    }\n",
       "\n",
       "    .dataframe tbody tr th {\n",
       "        vertical-align: top;\n",
       "    }\n",
       "\n",
       "    .dataframe thead th {\n",
       "        text-align: right;\n",
       "    }\n",
       "</style>\n",
       "<table border=\"1\" class=\"dataframe\">\n",
       "  <thead>\n",
       "    <tr style=\"text-align: right;\">\n",
       "      <th></th>\n",
       "      <th>0</th>\n",
       "      <th>1</th>\n",
       "    </tr>\n",
       "  </thead>\n",
       "  <tbody>\n",
       "    <tr>\n",
       "      <th>0</th>\n",
       "      <td>0.705878</td>\n",
       "      <td>0.294122</td>\n",
       "    </tr>\n",
       "    <tr>\n",
       "      <th>1</th>\n",
       "      <td>0.690896</td>\n",
       "      <td>0.309104</td>\n",
       "    </tr>\n",
       "    <tr>\n",
       "      <th>2</th>\n",
       "      <td>0.855474</td>\n",
       "      <td>0.144526</td>\n",
       "    </tr>\n",
       "    <tr>\n",
       "      <th>3</th>\n",
       "      <td>0.722377</td>\n",
       "      <td>0.277623</td>\n",
       "    </tr>\n",
       "    <tr>\n",
       "      <th>4</th>\n",
       "      <td>0.640028</td>\n",
       "      <td>0.359972</td>\n",
       "    </tr>\n",
       "    <tr>\n",
       "      <th>...</th>\n",
       "      <td>...</td>\n",
       "      <td>...</td>\n",
       "    </tr>\n",
       "    <tr>\n",
       "      <th>13025</th>\n",
       "      <td>0.739356</td>\n",
       "      <td>0.260644</td>\n",
       "    </tr>\n",
       "    <tr>\n",
       "      <th>13026</th>\n",
       "      <td>0.982599</td>\n",
       "      <td>0.017401</td>\n",
       "    </tr>\n",
       "    <tr>\n",
       "      <th>13027</th>\n",
       "      <td>0.893439</td>\n",
       "      <td>0.106561</td>\n",
       "    </tr>\n",
       "    <tr>\n",
       "      <th>13028</th>\n",
       "      <td>0.861436</td>\n",
       "      <td>0.138564</td>\n",
       "    </tr>\n",
       "    <tr>\n",
       "      <th>13029</th>\n",
       "      <td>0.940658</td>\n",
       "      <td>0.059342</td>\n",
       "    </tr>\n",
       "  </tbody>\n",
       "</table>\n",
       "<p>13030 rows × 2 columns</p>\n",
       "</div>"
      ],
      "text/plain": [
       "              0         1\n",
       "0      0.705878  0.294122\n",
       "1      0.690896  0.309104\n",
       "2      0.855474  0.144526\n",
       "3      0.722377  0.277623\n",
       "4      0.640028  0.359972\n",
       "...         ...       ...\n",
       "13025  0.739356  0.260644\n",
       "13026  0.982599  0.017401\n",
       "13027  0.893439  0.106561\n",
       "13028  0.861436  0.138564\n",
       "13029  0.940658  0.059342\n",
       "\n",
       "[13030 rows x 2 columns]"
      ]
     },
     "execution_count": 9,
     "metadata": {},
     "output_type": "execute_result"
    }
   ],
   "source": [
    "# load logistic regresion prob predictions\n",
    "lr_pred = pd.read_csv('/Credit-Risk-Modelling/Datasets/lr_prob_predictions.csv', header=None)\n",
    "lr_pred"
   ]
  },
  {
   "cell_type": "code",
   "execution_count": 10,
   "metadata": {},
   "outputs": [
    {
     "data": {
      "text/html": [
       "<div>\n",
       "<style scoped>\n",
       "    .dataframe tbody tr th:only-of-type {\n",
       "        vertical-align: middle;\n",
       "    }\n",
       "\n",
       "    .dataframe tbody tr th {\n",
       "        vertical-align: top;\n",
       "    }\n",
       "\n",
       "    .dataframe thead th {\n",
       "        text-align: right;\n",
       "    }\n",
       "</style>\n",
       "<table border=\"1\" class=\"dataframe\">\n",
       "  <thead>\n",
       "    <tr style=\"text-align: right;\">\n",
       "      <th></th>\n",
       "      <th>xgb_prob_default</th>\n",
       "      <th>lr_prob_default</th>\n",
       "    </tr>\n",
       "  </thead>\n",
       "  <tbody>\n",
       "    <tr>\n",
       "      <th>0</th>\n",
       "      <td>0.032782</td>\n",
       "      <td>0.294122</td>\n",
       "    </tr>\n",
       "    <tr>\n",
       "      <th>1</th>\n",
       "      <td>0.006460</td>\n",
       "      <td>0.309104</td>\n",
       "    </tr>\n",
       "    <tr>\n",
       "      <th>2</th>\n",
       "      <td>0.063045</td>\n",
       "      <td>0.144526</td>\n",
       "    </tr>\n",
       "    <tr>\n",
       "      <th>3</th>\n",
       "      <td>0.107470</td>\n",
       "      <td>0.277623</td>\n",
       "    </tr>\n",
       "    <tr>\n",
       "      <th>4</th>\n",
       "      <td>0.030844</td>\n",
       "      <td>0.359972</td>\n",
       "    </tr>\n",
       "    <tr>\n",
       "      <th>...</th>\n",
       "      <td>...</td>\n",
       "      <td>...</td>\n",
       "    </tr>\n",
       "    <tr>\n",
       "      <th>13025</th>\n",
       "      <td>0.018710</td>\n",
       "      <td>0.260644</td>\n",
       "    </tr>\n",
       "    <tr>\n",
       "      <th>13026</th>\n",
       "      <td>0.010569</td>\n",
       "      <td>0.017401</td>\n",
       "    </tr>\n",
       "    <tr>\n",
       "      <th>13027</th>\n",
       "      <td>0.083046</td>\n",
       "      <td>0.106561</td>\n",
       "    </tr>\n",
       "    <tr>\n",
       "      <th>13028</th>\n",
       "      <td>0.008422</td>\n",
       "      <td>0.138564</td>\n",
       "    </tr>\n",
       "    <tr>\n",
       "      <th>13029</th>\n",
       "      <td>0.002292</td>\n",
       "      <td>0.059342</td>\n",
       "    </tr>\n",
       "  </tbody>\n",
       "</table>\n",
       "<p>13030 rows × 2 columns</p>\n",
       "</div>"
      ],
      "text/plain": [
       "       xgb_prob_default  lr_prob_default\n",
       "0              0.032782         0.294122\n",
       "1              0.006460         0.309104\n",
       "2              0.063045         0.144526\n",
       "3              0.107470         0.277623\n",
       "4              0.030844         0.359972\n",
       "...                 ...              ...\n",
       "13025          0.018710         0.260644\n",
       "13026          0.010569         0.017401\n",
       "13027          0.083046         0.106561\n",
       "13028          0.008422         0.138564\n",
       "13029          0.002292         0.059342\n",
       "\n",
       "[13030 rows x 2 columns]"
      ]
     },
     "execution_count": 10,
     "metadata": {},
     "output_type": "execute_result"
    }
   ],
   "source": [
    "dataset['lr_prob_default'] = lr_pred[1]\n",
    "dataset"
   ]
  },
  {
   "attachments": {
    "image.png": {
     "image/png": "[encoded data removed]"
    }
   },
   "cell_type": "markdown",
   "metadata": {},
   "source": [
    "![image.png](attachment:image.png)"
   ]
  },
  {
   "attachments": {},
   "cell_type": "markdown",
   "metadata": {},
   "source": [
    "* We assume a LGD (loss given default) of 20%\n",
    "* Loan amount of my data will be the exposure at default "
   ]
  },
  {
   "cell_type": "code",
   "execution_count": 11,
   "metadata": {},
   "outputs": [
    {
     "data": {
      "text/html": [
       "<div>\n",
       "<style scoped>\n",
       "    .dataframe tbody tr th:only-of-type {\n",
       "        vertical-align: middle;\n",
       "    }\n",
       "\n",
       "    .dataframe tbody tr th {\n",
       "        vertical-align: top;\n",
       "    }\n",
       "\n",
       "    .dataframe thead th {\n",
       "        text-align: right;\n",
       "    }\n",
       "</style>\n",
       "<table border=\"1\" class=\"dataframe\">\n",
       "  <thead>\n",
       "    <tr style=\"text-align: right;\">\n",
       "      <th></th>\n",
       "      <th>xgb_prob_default</th>\n",
       "      <th>lr_prob_default</th>\n",
       "      <th>LGD</th>\n",
       "      <th>EAD</th>\n",
       "    </tr>\n",
       "  </thead>\n",
       "  <tbody>\n",
       "    <tr>\n",
       "      <th>0</th>\n",
       "      <td>0.032782</td>\n",
       "      <td>0.294122</td>\n",
       "      <td>0.2</td>\n",
       "      <td>7000</td>\n",
       "    </tr>\n",
       "    <tr>\n",
       "      <th>1</th>\n",
       "      <td>0.006460</td>\n",
       "      <td>0.309104</td>\n",
       "      <td>0.2</td>\n",
       "      <td>5000</td>\n",
       "    </tr>\n",
       "    <tr>\n",
       "      <th>2</th>\n",
       "      <td>0.063045</td>\n",
       "      <td>0.144526</td>\n",
       "      <td>0.2</td>\n",
       "      <td>4200</td>\n",
       "    </tr>\n",
       "    <tr>\n",
       "      <th>3</th>\n",
       "      <td>0.107470</td>\n",
       "      <td>0.277623</td>\n",
       "      <td>0.2</td>\n",
       "      <td>7000</td>\n",
       "    </tr>\n",
       "    <tr>\n",
       "      <th>4</th>\n",
       "      <td>0.030844</td>\n",
       "      <td>0.359972</td>\n",
       "      <td>0.2</td>\n",
       "      <td>12600</td>\n",
       "    </tr>\n",
       "    <tr>\n",
       "      <th>...</th>\n",
       "      <td>...</td>\n",
       "      <td>...</td>\n",
       "      <td>...</td>\n",
       "      <td>...</td>\n",
       "    </tr>\n",
       "    <tr>\n",
       "      <th>13025</th>\n",
       "      <td>0.018710</td>\n",
       "      <td>0.260644</td>\n",
       "      <td>0.2</td>\n",
       "      <td>10000</td>\n",
       "    </tr>\n",
       "    <tr>\n",
       "      <th>13026</th>\n",
       "      <td>0.010569</td>\n",
       "      <td>0.017401</td>\n",
       "      <td>0.2</td>\n",
       "      <td>10000</td>\n",
       "    </tr>\n",
       "    <tr>\n",
       "      <th>13027</th>\n",
       "      <td>0.083046</td>\n",
       "      <td>0.106561</td>\n",
       "      <td>0.2</td>\n",
       "      <td>8500</td>\n",
       "    </tr>\n",
       "    <tr>\n",
       "      <th>13028</th>\n",
       "      <td>0.008422</td>\n",
       "      <td>0.138564</td>\n",
       "      <td>0.2</td>\n",
       "      <td>4500</td>\n",
       "    </tr>\n",
       "    <tr>\n",
       "      <th>13029</th>\n",
       "      <td>0.002292</td>\n",
       "      <td>0.059342</td>\n",
       "      <td>0.2</td>\n",
       "      <td>13600</td>\n",
       "    </tr>\n",
       "  </tbody>\n",
       "</table>\n",
       "<p>13030 rows × 4 columns</p>\n",
       "</div>"
      ],
      "text/plain": [
       "       xgb_prob_default  lr_prob_default  LGD    EAD\n",
       "0              0.032782         0.294122  0.2   7000\n",
       "1              0.006460         0.309104  0.2   5000\n",
       "2              0.063045         0.144526  0.2   4200\n",
       "3              0.107470         0.277623  0.2   7000\n",
       "4              0.030844         0.359972  0.2  12600\n",
       "...                 ...              ...  ...    ...\n",
       "13025          0.018710         0.260644  0.2  10000\n",
       "13026          0.010569         0.017401  0.2  10000\n",
       "13027          0.083046         0.106561  0.2   8500\n",
       "13028          0.008422         0.138564  0.2   4500\n",
       "13029          0.002292         0.059342  0.2  13600\n",
       "\n",
       "[13030 rows x 4 columns]"
      ]
     },
     "execution_count": 11,
     "metadata": {},
     "output_type": "execute_result"
    }
   ],
   "source": [
    "dataset['LGD'] = 0.2\n",
    "dataset['EAD'] = X_test['loan_amnt'].values #  specified values so it doesn't yield nan values\n",
    "dataset"
   ]
  },
  {
   "cell_type": "code",
   "execution_count": 12,
   "metadata": {},
   "outputs": [
    {
     "name": "stdout",
     "output_type": "stream",
     "text": [
      "<class 'pandas.core.frame.DataFrame'>\n",
      "RangeIndex: 13030 entries, 0 to 13029\n",
      "Data columns (total 4 columns):\n",
      " #   Column            Non-Null Count  Dtype  \n",
      "---  ------            --------------  -----  \n",
      " 0   xgb_prob_default  13030 non-null  float32\n",
      " 1   lr_prob_default   13030 non-null  float64\n",
      " 2   LGD               13030 non-null  float64\n",
      " 3   EAD               13030 non-null  int64  \n",
      "dtypes: float32(1), float64(2), int64(1)\n",
      "memory usage: 356.4 KB\n"
     ]
    }
   ],
   "source": [
    "dataset.info()"
   ]
  },
  {
   "cell_type": "code",
   "execution_count": 13,
   "metadata": {},
   "outputs": [
    {
     "data": {
      "text/html": [
       "<div>\n",
       "<style scoped>\n",
       "    .dataframe tbody tr th:only-of-type {\n",
       "        vertical-align: middle;\n",
       "    }\n",
       "\n",
       "    .dataframe tbody tr th {\n",
       "        vertical-align: top;\n",
       "    }\n",
       "\n",
       "    .dataframe thead th {\n",
       "        text-align: right;\n",
       "    }\n",
       "</style>\n",
       "<table border=\"1\" class=\"dataframe\">\n",
       "  <thead>\n",
       "    <tr style=\"text-align: right;\">\n",
       "      <th></th>\n",
       "      <th>xgb_prob_default</th>\n",
       "      <th>lr_prob_default</th>\n",
       "      <th>LGD</th>\n",
       "      <th>EAD</th>\n",
       "      <th>xgb_expected_loss</th>\n",
       "      <th>lr_expected_loss</th>\n",
       "    </tr>\n",
       "  </thead>\n",
       "  <tbody>\n",
       "    <tr>\n",
       "      <th>0</th>\n",
       "      <td>0.032782</td>\n",
       "      <td>0.294122</td>\n",
       "      <td>0.2</td>\n",
       "      <td>7000</td>\n",
       "      <td>45.894779</td>\n",
       "      <td>411.770432</td>\n",
       "    </tr>\n",
       "    <tr>\n",
       "      <th>1</th>\n",
       "      <td>0.006460</td>\n",
       "      <td>0.309104</td>\n",
       "      <td>0.2</td>\n",
       "      <td>5000</td>\n",
       "      <td>6.460193</td>\n",
       "      <td>309.104010</td>\n",
       "    </tr>\n",
       "    <tr>\n",
       "      <th>2</th>\n",
       "      <td>0.063045</td>\n",
       "      <td>0.144526</td>\n",
       "      <td>0.2</td>\n",
       "      <td>4200</td>\n",
       "      <td>52.957458</td>\n",
       "      <td>121.401540</td>\n",
       "    </tr>\n",
       "    <tr>\n",
       "      <th>3</th>\n",
       "      <td>0.107470</td>\n",
       "      <td>0.277623</td>\n",
       "      <td>0.2</td>\n",
       "      <td>7000</td>\n",
       "      <td>150.458498</td>\n",
       "      <td>388.672132</td>\n",
       "    </tr>\n",
       "    <tr>\n",
       "      <th>4</th>\n",
       "      <td>0.030844</td>\n",
       "      <td>0.359972</td>\n",
       "      <td>0.2</td>\n",
       "      <td>12600</td>\n",
       "      <td>77.727549</td>\n",
       "      <td>907.129080</td>\n",
       "    </tr>\n",
       "    <tr>\n",
       "      <th>...</th>\n",
       "      <td>...</td>\n",
       "      <td>...</td>\n",
       "      <td>...</td>\n",
       "      <td>...</td>\n",
       "      <td>...</td>\n",
       "      <td>...</td>\n",
       "    </tr>\n",
       "    <tr>\n",
       "      <th>13025</th>\n",
       "      <td>0.018710</td>\n",
       "      <td>0.260644</td>\n",
       "      <td>0.2</td>\n",
       "      <td>10000</td>\n",
       "      <td>37.419856</td>\n",
       "      <td>521.288817</td>\n",
       "    </tr>\n",
       "    <tr>\n",
       "      <th>13026</th>\n",
       "      <td>0.010569</td>\n",
       "      <td>0.017401</td>\n",
       "      <td>0.2</td>\n",
       "      <td>10000</td>\n",
       "      <td>21.138025</td>\n",
       "      <td>34.802887</td>\n",
       "    </tr>\n",
       "    <tr>\n",
       "      <th>13027</th>\n",
       "      <td>0.083046</td>\n",
       "      <td>0.106561</td>\n",
       "      <td>0.2</td>\n",
       "      <td>8500</td>\n",
       "      <td>141.178422</td>\n",
       "      <td>181.153550</td>\n",
       "    </tr>\n",
       "    <tr>\n",
       "      <th>13028</th>\n",
       "      <td>0.008422</td>\n",
       "      <td>0.138564</td>\n",
       "      <td>0.2</td>\n",
       "      <td>4500</td>\n",
       "      <td>7.580198</td>\n",
       "      <td>124.707799</td>\n",
       "    </tr>\n",
       "    <tr>\n",
       "      <th>13029</th>\n",
       "      <td>0.002292</td>\n",
       "      <td>0.059342</td>\n",
       "      <td>0.2</td>\n",
       "      <td>13600</td>\n",
       "      <td>6.233263</td>\n",
       "      <td>161.409832</td>\n",
       "    </tr>\n",
       "  </tbody>\n",
       "</table>\n",
       "<p>13030 rows × 6 columns</p>\n",
       "</div>"
      ],
      "text/plain": [
       "       xgb_prob_default  lr_prob_default  LGD    EAD  xgb_expected_loss  \\\n",
       "0              0.032782         0.294122  0.2   7000          45.894779   \n",
       "1              0.006460         0.309104  0.2   5000           6.460193   \n",
       "2              0.063045         0.144526  0.2   4200          52.957458   \n",
       "3              0.107470         0.277623  0.2   7000         150.458498   \n",
       "4              0.030844         0.359972  0.2  12600          77.727549   \n",
       "...                 ...              ...  ...    ...                ...   \n",
       "13025          0.018710         0.260644  0.2  10000          37.419856   \n",
       "13026          0.010569         0.017401  0.2  10000          21.138025   \n",
       "13027          0.083046         0.106561  0.2   8500         141.178422   \n",
       "13028          0.008422         0.138564  0.2   4500           7.580198   \n",
       "13029          0.002292         0.059342  0.2  13600           6.233263   \n",
       "\n",
       "       lr_expected_loss  \n",
       "0            411.770432  \n",
       "1            309.104010  \n",
       "2            121.401540  \n",
       "3            388.672132  \n",
       "4            907.129080  \n",
       "...                 ...  \n",
       "13025        521.288817  \n",
       "13026         34.802887  \n",
       "13027        181.153550  \n",
       "13028        124.707799  \n",
       "13029        161.409832  \n",
       "\n",
       "[13030 rows x 6 columns]"
      ]
     },
     "execution_count": 13,
     "metadata": {},
     "output_type": "execute_result"
    }
   ],
   "source": [
    "# Calculated the expected loss fro both models\n",
    "dataset['xgb_expected_loss'] = dataset['xgb_prob_default'] * dataset['LGD'] * dataset['EAD']\n",
    "dataset['lr_expected_loss'] = dataset['lr_prob_default'] * dataset['LGD'] * dataset['EAD']\n",
    "dataset"
   ]
  },
  {
   "cell_type": "code",
   "execution_count": 14,
   "metadata": {},
   "outputs": [
    {
     "name": "stdout",
     "output_type": "stream",
     "text": [
      "LR expected loss:  6165975.947916928\n",
      "XGB expected loss:  6046466.023305291\n"
     ]
    }
   ],
   "source": [
    "# Print the sum of the expected loss for gbt\n",
    "print('LR expected loss: ', np.sum(dataset['lr_expected_loss']))\n",
    "print('XGB expected loss: ', np.sum(dataset['xgb_expected_loss']))"
   ]
  },
  {
   "attachments": {},
   "cell_type": "markdown",
   "metadata": {},
   "source": [
    "When we talk about accuracy and precision, the goal is to generate models which have a low expected loss."
   ]
  },
  {
   "attachments": {},
   "cell_type": "markdown",
   "metadata": {},
   "source": [
    "### Assesing Gradient Boosted tress\n",
    "Making predictions for the actual class of the loan status"
   ]
  },
  {
   "cell_type": "code",
   "execution_count": 15,
   "metadata": {},
   "outputs": [],
   "source": [
    "gbt_preds = clf_gbt.predict(X_test)"
   ]
  },
  {
   "cell_type": "code",
   "execution_count": 19,
   "metadata": {},
   "outputs": [
    {
     "data": {
      "text/plain": [
       "0    10796\n",
       "1     2234\n",
       "dtype: int64"
      ]
     },
     "execution_count": 19,
     "metadata": {},
     "output_type": "execute_result"
    }
   ],
   "source": [
    "pd.value_counts(gbt_preds)"
   ]
  },
  {
   "cell_type": "code",
   "execution_count": 25,
   "metadata": {},
   "outputs": [
    {
     "name": "stdout",
     "output_type": "stream",
     "text": [
      "              precision    recall  f1-score   support\n",
      "\n",
      " Non-Default       0.93      0.99      0.96     10215\n",
      "     Default       0.94      0.75      0.84      2815\n",
      "\n",
      "    accuracy                           0.94     13030\n",
      "   macro avg       0.94      0.87      0.90     13030\n",
      "weighted avg       0.94      0.94      0.93     13030\n",
      "\n"
     ]
    }
   ],
   "source": [
    "# Print the classification report of the model\n",
    "target_names = ['Non-Default', 'Default']\n",
    "print(classification_report(y_test, gbt_preds, target_names=target_names))"
   ]
  },
  {
   "cell_type": "code",
   "execution_count": 29,
   "metadata": {},
   "outputs": [
    {
     "data": {
      "text/plain": [
       "array([[10092,   123],\n",
       "       [  704,  2111]], dtype=int64)"
      ]
     },
     "execution_count": 29,
     "metadata": {},
     "output_type": "execute_result"
    }
   ],
   "source": [
    "cm = confusion_matrix(y_test, gbt_preds)\n",
    "cm\n"
   ]
  },
  {
   "cell_type": "code",
   "execution_count": 31,
   "metadata": {},
   "outputs": [
    {
     "data": {
      "image/png": "[encoded data removed]",
      "text/plain": [
       "<Figure size 640x480 with 2 Axes>"
      ]
     },
     "metadata": {},
     "output_type": "display_data"
    }
   ],
   "source": [
    "disp = ConfusionMatrixDisplay(confusion_matrix=cm,\n",
    "                              display_labels=clf_gbt.classes_)\n",
    "disp.plot()\n",
    "plt.show();"
   ]
  },
  {
   "attachments": {},
   "cell_type": "markdown",
   "metadata": {},
   "source": [
    "Manually calculating the classifications reports predictive power"
   ]
  },
  {
   "cell_type": "code",
   "execution_count": 38,
   "metadata": {},
   "outputs": [
    {
     "name": "stdout",
     "output_type": "stream",
     "text": [
      "Precision Score: 0.9449418084153984\n"
     ]
    }
   ],
   "source": [
    "# Precision – What percent of your predictions were correct?\n",
    "# Precision is the ability of a classifier not to label an instance positive that is actually negative.\n",
    "# precision = TP / (TP + FP)\n",
    "precision = 2111 / (2111 + 123)\n",
    "print(f'Precision Score: {precision}')"
   ]
  },
  {
   "cell_type": "code",
   "execution_count": 39,
   "metadata": {},
   "outputs": [
    {
     "name": "stdout",
     "output_type": "stream",
     "text": [
      "Recall Score: 0.749911190053286\n"
     ]
    }
   ],
   "source": [
    "# Recall is the ability of a classifier to find all positive instances\n",
    "# recall = TP / (TP + FN)\n",
    "recall = 2111 / (2111 + 704)\n",
    "print(f'Recall Score: {recall}')\n"
   ]
  },
  {
   "cell_type": "code",
   "execution_count": 41,
   "metadata": {},
   "outputs": [
    {
     "name": "stdout",
     "output_type": "stream",
     "text": [
      "F1 Score: 0.8362051891463657\n"
     ]
    }
   ],
   "source": [
    "# The F1 score is a weighted harmonic mean of precision and recall \n",
    "# such that the best score is 1.0 and the worst is 0.0\n",
    "# F1 should be used to compare classifier models, not global accuracy.\n",
    "# f1 score =  2 * (recall *precision) / (recall + precision)\n",
    "f1_score = 2 * (recall * precision) / (recall + precision)\n",
    "print(f'F1 Score: {f1_score}')"
   ]
  },
  {
   "attachments": {},
   "cell_type": "markdown",
   "metadata": {},
   "source": [
    "Improving the model by checking column importances"
   ]
  },
  {
   "cell_type": "code",
   "execution_count": 42,
   "metadata": {},
   "outputs": [
    {
     "data": {
      "text/plain": [
       "{'person_age': 256.0,\n",
       " 'person_income': 826.0,\n",
       " 'person_emp_length': 242.0,\n",
       " 'loan_amnt': 317.0,\n",
       " 'loan_int_rate': 461.0,\n",
       " 'loan_percent_income': 280.0,\n",
       " 'cb_person_cred_hist_length': 159.0,\n",
       " 'person_home_ownership_MORTGAGE': 37.0,\n",
       " 'person_home_ownership_OTHER': 3.0,\n",
       " 'person_home_ownership_OWN': 40.0,\n",
       " 'person_home_ownership_RENT': 65.0,\n",
       " 'loan_intent_DEBTCONSOLIDATION': 64.0,\n",
       " 'loan_intent_EDUCATION': 35.0,\n",
       " 'loan_intent_HOMEIMPROVEMENT': 59.0,\n",
       " 'loan_intent_MEDICAL': 82.0,\n",
       " 'loan_intent_PERSONAL': 29.0,\n",
       " 'loan_intent_VENTURE': 38.0,\n",
       " 'loan_grade_A': 13.0,\n",
       " 'loan_grade_B': 37.0,\n",
       " 'loan_grade_C': 40.0,\n",
       " 'loan_grade_D': 43.0,\n",
       " 'loan_grade_E': 29.0,\n",
       " 'loan_grade_F': 14.0,\n",
       " 'loan_grade_G': 15.0,\n",
       " 'cb_person_default_on_file_N': 25.0}"
      ]
     },
     "execution_count": 42,
     "metadata": {},
     "output_type": "execute_result"
    }
   ],
   "source": [
    "clf_gbt.get_booster().get_score(importance_type='weight')"
   ]
  },
  {
   "cell_type": "code",
   "execution_count": 45,
   "metadata": {},
   "outputs": [
    {
     "data": {
      "image/png": "[encoded data removed]",
      "text/plain": [
       "<Figure size 640x480 with 1 Axes>"
      ]
     },
     "metadata": {},
     "output_type": "display_data"
    }
   ],
   "source": [
    "xgb.plot_importance(clf_gbt, importance_type='weight')\n",
    "plt.show()"
   ]
  },
  {
   "attachments": {},
   "cell_type": "markdown",
   "metadata": {},
   "source": [
    "Now we know which columns matter most, we can created new train test datasets based on this info"
   ]
  },
  {
   "cell_type": "code",
   "execution_count": 64,
   "metadata": {},
   "outputs": [],
   "source": [
    "X_new = df[['person_income', 'loan_int_rate', 'loan_amnt', 'loan_percent_income', 'person_age',\n",
    "        'person_emp_length', 'cb_person_cred_hist_length']]"
   ]
  },
  {
   "cell_type": "code",
   "execution_count": 65,
   "metadata": {},
   "outputs": [],
   "source": [
    "X_new_train, X_new_test, y_train, y_test = train_test_split(X_new, y, \n",
    "                                                    test_size=0.4, \n",
    "                                                    random_state=2)"
   ]
  },
  {
   "cell_type": "code",
   "execution_count": 66,
   "metadata": {},
   "outputs": [
    {
     "data": {
      "text/plain": [
       "{'person_income': 1101.0,\n",
       " 'loan_int_rate': 718.0,\n",
       " 'loan_amnt': 504.0,\n",
       " 'loan_percent_income': 345.0,\n",
       " 'person_age': 351.0,\n",
       " 'person_emp_length': 370.0,\n",
       " 'cb_person_cred_hist_length': 238.0}"
      ]
     },
     "execution_count": 66,
     "metadata": {},
     "output_type": "execute_result"
    }
   ],
   "source": [
    "# Create and train the model on the training data\n",
    "clf_gbt = xgb.XGBClassifier().fit(X_new_train,np.ravel(y_train))\n",
    "\n",
    "# Print the column importances from the model\n",
    "clf_gbt.get_booster().get_score(importance_type = 'weight')"
   ]
  },
  {
   "cell_type": "code",
   "execution_count": 67,
   "metadata": {},
   "outputs": [],
   "source": [
    "gbt_preds = clf_gbt.predict(X_new_test)  # check model predictions"
   ]
  },
  {
   "cell_type": "code",
   "execution_count": 68,
   "metadata": {},
   "outputs": [
    {
     "name": "stdout",
     "output_type": "stream",
     "text": [
      "              precision    recall  f1-score   support\n",
      "\n",
      " Non-Default       0.90      0.94      0.92     10215\n",
      "     Default       0.75      0.63      0.68      2815\n",
      "\n",
      "    accuracy                           0.87     13030\n",
      "   macro avg       0.83      0.79      0.80     13030\n",
      "weighted avg       0.87      0.87      0.87     13030\n",
      "\n"
     ]
    }
   ],
   "source": [
    "# Print the classification report of the model\n",
    "target_names = ['Non-Default', 'Default']\n",
    "print(classification_report(y_test, gbt_preds, target_names=target_names))"
   ]
  },
  {
   "attachments": {},
   "cell_type": "markdown",
   "metadata": {},
   "source": [
    "This column selection did worst than the original model with all the data available<br>\n",
    "When the model is trained on different sets of columns it changes the performance, but does the importance for the same column change depending on which group it's in?"
   ]
  },
  {
   "cell_type": "code",
   "execution_count": 52,
   "metadata": {},
   "outputs": [],
   "source": [
    "X2 = df[['loan_int_rate','person_emp_length']]\n",
    "X3 = df[['person_income','loan_int_rate','loan_percent_income']]"
   ]
  },
  {
   "cell_type": "code",
   "execution_count": 53,
   "metadata": {},
   "outputs": [],
   "source": [
    "X2_train, X2_test, y_train, y_test = train_test_split(X2, y, \n",
    "                                                    test_size=0.4, \n",
    "                                                    random_state=2)"
   ]
  },
  {
   "cell_type": "code",
   "execution_count": 54,
   "metadata": {},
   "outputs": [],
   "source": [
    "X3_train, X3_test, y_train, y_test = train_test_split(X3, y, \n",
    "                                                    test_size=0.4, \n",
    "                                                    random_state=2)"
   ]
  },
  {
   "attachments": {},
   "cell_type": "markdown",
   "metadata": {},
   "source": [
    "### X2 feature importance"
   ]
  },
  {
   "cell_type": "code",
   "execution_count": 57,
   "metadata": {},
   "outputs": [],
   "source": [
    "clf_gbt2 = xgb.XGBClassifier().fit(X2_train, np.ravel(y_train))"
   ]
  },
  {
   "cell_type": "code",
   "execution_count": 58,
   "metadata": {},
   "outputs": [
    {
     "data": {
      "text/plain": [
       "<AxesSubplot:title={'center':'Feature importance'}, xlabel='F score', ylabel='Features'>"
      ]
     },
     "execution_count": 58,
     "metadata": {},
     "output_type": "execute_result"
    },
    {
     "data": {
      "image/png": "[encoded data removed]",
      "text/plain": [
       "<Figure size 640x480 with 1 Axes>"
      ]
     },
     "metadata": {},
     "output_type": "display_data"
    }
   ],
   "source": [
    "xgb.plot_importance(clf_gbt2, importance_type='weight')\n"
   ]
  },
  {
   "attachments": {},
   "cell_type": "markdown",
   "metadata": {},
   "source": [
    "### X3 Feature importance"
   ]
  },
  {
   "cell_type": "code",
   "execution_count": 59,
   "metadata": {},
   "outputs": [
    {
     "data": {
      "text/plain": [
       "<AxesSubplot:title={'center':'Feature importance'}, xlabel='F score', ylabel='Features'>"
      ]
     },
     "execution_count": 59,
     "metadata": {},
     "output_type": "execute_result"
    },
    {
     "data": {
      "image/png": "[encoded data removed]",
      "text/plain": [
       "<Figure size 640x480 with 1 Axes>"
      ]
     },
     "metadata": {},
     "output_type": "display_data"
    }
   ],
   "source": [
    "clf_gbt3 = xgb.XGBClassifier().fit(X3_train, np.ravel(y_train))\n",
    "xgb.plot_importance(clf_gbt3, importance_type='weight')\n"
   ]
  },
  {
   "attachments": {},
   "cell_type": "markdown",
   "metadata": {},
   "source": [
    "## Cross validation"
   ]
  },
  {
   "cell_type": "code",
   "execution_count": 74,
   "metadata": {},
   "outputs": [],
   "source": [
    "# set number of folds\n",
    "n_folds = 2\n",
    "# set early stopping number\n",
    "stop = 5\n",
    "# specified parameters\n",
    "params = {'objective': 'binary:logistic',\n",
    "          'seed': 99, \n",
    "          'eval_metric': 'auc'}"
   ]
  },
  {
   "cell_type": "code",
   "execution_count": 77,
   "metadata": {},
   "outputs": [
    {
     "data": {
      "text/html": [
       "<div>\n",
       "<style scoped>\n",
       "    .dataframe tbody tr th:only-of-type {\n",
       "        vertical-align: middle;\n",
       "    }\n",
       "\n",
       "    .dataframe tbody tr th {\n",
       "        vertical-align: top;\n",
       "    }\n",
       "\n",
       "    .dataframe thead th {\n",
       "        text-align: right;\n",
       "    }\n",
       "</style>\n",
       "<table border=\"1\" class=\"dataframe\">\n",
       "  <thead>\n",
       "    <tr style=\"text-align: right;\">\n",
       "      <th></th>\n",
       "      <th>train-auc-mean</th>\n",
       "      <th>train-auc-std</th>\n",
       "      <th>test-auc-mean</th>\n",
       "      <th>test-auc-std</th>\n",
       "    </tr>\n",
       "  </thead>\n",
       "  <tbody>\n",
       "    <tr>\n",
       "      <th>0</th>\n",
       "      <td>0.878633</td>\n",
       "      <td>0.001390</td>\n",
       "      <td>0.877199</td>\n",
       "      <td>0.002097</td>\n",
       "    </tr>\n",
       "    <tr>\n",
       "      <th>1</th>\n",
       "      <td>0.897900</td>\n",
       "      <td>0.003101</td>\n",
       "      <td>0.891804</td>\n",
       "      <td>0.000572</td>\n",
       "    </tr>\n",
       "    <tr>\n",
       "      <th>2</th>\n",
       "      <td>0.907764</td>\n",
       "      <td>0.002682</td>\n",
       "      <td>0.900042</td>\n",
       "      <td>0.000905</td>\n",
       "    </tr>\n",
       "    <tr>\n",
       "      <th>3</th>\n",
       "      <td>0.913543</td>\n",
       "      <td>0.001899</td>\n",
       "      <td>0.904756</td>\n",
       "      <td>0.002556</td>\n",
       "    </tr>\n",
       "    <tr>\n",
       "      <th>4</th>\n",
       "      <td>0.919514</td>\n",
       "      <td>0.000831</td>\n",
       "      <td>0.910045</td>\n",
       "      <td>0.003986</td>\n",
       "    </tr>\n",
       "  </tbody>\n",
       "</table>\n",
       "</div>"
      ],
      "text/plain": [
       "   train-auc-mean  train-auc-std  test-auc-mean  test-auc-std\n",
       "0        0.878633       0.001390       0.877199      0.002097\n",
       "1        0.897900       0.003101       0.891804      0.000572\n",
       "2        0.907764       0.002682       0.900042      0.000905\n",
       "3        0.913543       0.001899       0.904756      0.002556\n",
       "4        0.919514       0.000831       0.910045      0.003986"
      ]
     },
     "execution_count": 77,
     "metadata": {},
     "output_type": "execute_result"
    }
   ],
   "source": [
    "# structure train data for cross validation using dmatrix\n",
    "cv_train = xgb.DMatrix(X_train, label=y_train)\n",
    "\n",
    "# cross validation\n",
    "xgb.cv(params, cv_train, num_boost_round=5, nfold=n_folds, early_stopping_rounds=stop)"
   ]
  },
  {
   "attachments": {},
   "cell_type": "markdown",
   "metadata": {},
   "source": [
    "AUC for tran and test improves each iteration"
   ]
  },
  {
   "cell_type": "code",
   "execution_count": 80,
   "metadata": {},
   "outputs": [
    {
     "data": {
      "text/plain": [
       "array([0.92862625, 0.92785879, 0.93195191, 0.93169609, 0.92784033])"
      ]
     },
     "execution_count": 80,
     "metadata": {},
     "output_type": "execute_result"
    }
   ],
   "source": [
    "# using cross validation from scikit-learn\n",
    "gbt = xgb.XGBClassifier(learning_rate=0.4, max_depth=10, random_state=4)\n",
    "cross_val_score(gbt, X_train, y_train, cv=5)"
   ]
  },
  {
   "attachments": {},
   "cell_type": "markdown",
   "metadata": {},
   "source": [
    "Limits of cross validation"
   ]
  },
  {
   "cell_type": "code",
   "execution_count": 81,
   "metadata": {},
   "outputs": [],
   "source": [
    "# 600 iterations of cross-validation\n",
    "cv = xgb.cv(params, cv_train, num_boost_round = 600, nfold=10,\n",
    "            shuffle = True)"
   ]
  },
  {
   "cell_type": "code",
   "execution_count": 82,
   "metadata": {},
   "outputs": [
    {
     "data": {
      "text/html": [
       "<div>\n",
       "<style scoped>\n",
       "    .dataframe tbody tr th:only-of-type {\n",
       "        vertical-align: middle;\n",
       "    }\n",
       "\n",
       "    .dataframe tbody tr th {\n",
       "        vertical-align: top;\n",
       "    }\n",
       "\n",
       "    .dataframe thead th {\n",
       "        text-align: right;\n",
       "    }\n",
       "</style>\n",
       "<table border=\"1\" class=\"dataframe\">\n",
       "  <thead>\n",
       "    <tr style=\"text-align: right;\">\n",
       "      <th></th>\n",
       "      <th>train-auc-mean</th>\n",
       "      <th>train-auc-std</th>\n",
       "      <th>test-auc-mean</th>\n",
       "      <th>test-auc-std</th>\n",
       "    </tr>\n",
       "  </thead>\n",
       "  <tbody>\n",
       "    <tr>\n",
       "      <th>0</th>\n",
       "      <td>0.880134</td>\n",
       "      <td>0.002213</td>\n",
       "      <td>0.878676</td>\n",
       "      <td>0.008772</td>\n",
       "    </tr>\n",
       "    <tr>\n",
       "      <th>1</th>\n",
       "      <td>0.897184</td>\n",
       "      <td>0.003249</td>\n",
       "      <td>0.890132</td>\n",
       "      <td>0.011484</td>\n",
       "    </tr>\n",
       "    <tr>\n",
       "      <th>2</th>\n",
       "      <td>0.906026</td>\n",
       "      <td>0.002147</td>\n",
       "      <td>0.899629</td>\n",
       "      <td>0.012060</td>\n",
       "    </tr>\n",
       "    <tr>\n",
       "      <th>3</th>\n",
       "      <td>0.912998</td>\n",
       "      <td>0.002685</td>\n",
       "      <td>0.906464</td>\n",
       "      <td>0.009617</td>\n",
       "    </tr>\n",
       "    <tr>\n",
       "      <th>4</th>\n",
       "      <td>0.918052</td>\n",
       "      <td>0.002819</td>\n",
       "      <td>0.911652</td>\n",
       "      <td>0.009420</td>\n",
       "    </tr>\n",
       "    <tr>\n",
       "      <th>...</th>\n",
       "      <td>...</td>\n",
       "      <td>...</td>\n",
       "      <td>...</td>\n",
       "      <td>...</td>\n",
       "    </tr>\n",
       "    <tr>\n",
       "      <th>595</th>\n",
       "      <td>1.000000</td>\n",
       "      <td>0.000000</td>\n",
       "      <td>0.945025</td>\n",
       "      <td>0.004052</td>\n",
       "    </tr>\n",
       "    <tr>\n",
       "      <th>596</th>\n",
       "      <td>1.000000</td>\n",
       "      <td>0.000000</td>\n",
       "      <td>0.945014</td>\n",
       "      <td>0.003984</td>\n",
       "    </tr>\n",
       "    <tr>\n",
       "      <th>597</th>\n",
       "      <td>1.000000</td>\n",
       "      <td>0.000000</td>\n",
       "      <td>0.945012</td>\n",
       "      <td>0.003970</td>\n",
       "    </tr>\n",
       "    <tr>\n",
       "      <th>598</th>\n",
       "      <td>1.000000</td>\n",
       "      <td>0.000000</td>\n",
       "      <td>0.944998</td>\n",
       "      <td>0.003985</td>\n",
       "    </tr>\n",
       "    <tr>\n",
       "      <th>599</th>\n",
       "      <td>1.000000</td>\n",
       "      <td>0.000000</td>\n",
       "      <td>0.945003</td>\n",
       "      <td>0.004006</td>\n",
       "    </tr>\n",
       "  </tbody>\n",
       "</table>\n",
       "<p>600 rows × 4 columns</p>\n",
       "</div>"
      ],
      "text/plain": [
       "     train-auc-mean  train-auc-std  test-auc-mean  test-auc-std\n",
       "0          0.880134       0.002213       0.878676      0.008772\n",
       "1          0.897184       0.003249       0.890132      0.011484\n",
       "2          0.906026       0.002147       0.899629      0.012060\n",
       "3          0.912998       0.002685       0.906464      0.009617\n",
       "4          0.918052       0.002819       0.911652      0.009420\n",
       "..              ...            ...            ...           ...\n",
       "595        1.000000       0.000000       0.945025      0.004052\n",
       "596        1.000000       0.000000       0.945014      0.003984\n",
       "597        1.000000       0.000000       0.945012      0.003970\n",
       "598        1.000000       0.000000       0.944998      0.003985\n",
       "599        1.000000       0.000000       0.945003      0.004006\n",
       "\n",
       "[600 rows x 4 columns]"
      ]
     },
     "execution_count": 82,
     "metadata": {},
     "output_type": "execute_result"
    }
   ],
   "source": [
    "cv"
   ]
  },
  {
   "cell_type": "code",
   "execution_count": 87,
   "metadata": {},
   "outputs": [
    {
     "data": {
      "text/plain": [
       "0.945764543010997"
      ]
     },
     "execution_count": 87,
     "metadata": {},
     "output_type": "execute_result"
    }
   ],
   "source": [
    "# Calculate the mean of the test AUC scores\n",
    "np.mean(cv['test-auc-mean'])"
   ]
  },
  {
   "cell_type": "code",
   "execution_count": 88,
   "metadata": {},
   "outputs": [
    {
     "data": {
      "image/png": "[encoded data removed]",
      "text/plain": [
       "<Figure size 640x480 with 1 Axes>"
      ]
     },
     "metadata": {},
     "output_type": "display_data"
    }
   ],
   "source": [
    "# # Plot the test AUC scores for each iteration\n",
    "plt.plot(cv['test-auc-mean'])\n",
    "plt.title('Test AUC Score Over 600 Iterations')\n",
    "plt.xlabel('Iteration Number')\n",
    "plt.ylabel('Test AUC Score')\n",
    "plt.show()"
   ]
  },
  {
   "cell_type": "code",
   "execution_count": 89,
   "metadata": {},
   "outputs": [
    {
     "data": {
      "text/plain": [
       "0.9489151958739974"
      ]
     },
     "execution_count": 89,
     "metadata": {},
     "output_type": "execute_result"
    }
   ],
   "source": [
    "cv['test-auc-mean'].max()"
   ]
  },
  {
   "cell_type": "code",
   "execution_count": 93,
   "metadata": {},
   "outputs": [
    {
     "data": {
      "text/html": [
       "<div>\n",
       "<style scoped>\n",
       "    .dataframe tbody tr th:only-of-type {\n",
       "        vertical-align: middle;\n",
       "    }\n",
       "\n",
       "    .dataframe tbody tr th {\n",
       "        vertical-align: top;\n",
       "    }\n",
       "\n",
       "    .dataframe thead th {\n",
       "        text-align: right;\n",
       "    }\n",
       "</style>\n",
       "<table border=\"1\" class=\"dataframe\">\n",
       "  <thead>\n",
       "    <tr style=\"text-align: right;\">\n",
       "      <th></th>\n",
       "      <th>train-auc-mean</th>\n",
       "      <th>train-auc-std</th>\n",
       "      <th>test-auc-mean</th>\n",
       "      <th>test-auc-std</th>\n",
       "    </tr>\n",
       "  </thead>\n",
       "  <tbody>\n",
       "    <tr>\n",
       "      <th>92</th>\n",
       "      <td>0.992986</td>\n",
       "      <td>0.000479</td>\n",
       "      <td>0.948915</td>\n",
       "      <td>0.004469</td>\n",
       "    </tr>\n",
       "  </tbody>\n",
       "</table>\n",
       "</div>"
      ],
      "text/plain": [
       "    train-auc-mean  train-auc-std  test-auc-mean  test-auc-std\n",
       "92        0.992986       0.000479       0.948915      0.004469"
      ]
     },
     "execution_count": 93,
     "metadata": {},
     "output_type": "execute_result"
    }
   ],
   "source": [
    "# max test auc mean happens at iteration number 91\n",
    "cv[cv['test-auc-mean'] == cv['test-auc-mean'].max()]"
   ]
  },
  {
   "attachments": {},
   "cell_type": "markdown",
   "metadata": {},
   "source": [
    "begins to decrease slightly after 100 iterations. This is because this much cross-validation can actually cause the model to become overfit"
   ]
  },
  {
   "cell_type": "markdown",
   "metadata": {},
   "source": []
  }
 ],
 "metadata": {
  "kernelspec": {
   "display_name": "base",
   "language": "python",
   "name": "python3"
  },
  "language_info": {
   "codemirror_mode": {
    "name": "ipython",
    "version": 3
   },
   "file_extension": ".py",
   "mimetype": "text/x-python",
   "name": "python",
   "nbconvert_exporter": "python",
   "pygments_lexer": "ipython3",
   "version": "3.9.7"
  },
  "orig_nbformat": 4
 },
 "nbformat": 4,
 "nbformat_minor": 2
}
